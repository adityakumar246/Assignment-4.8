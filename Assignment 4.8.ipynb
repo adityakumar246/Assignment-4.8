{
 "cells": [
  {
   "cell_type": "markdown",
   "metadata": {},
   "source": [
    "QUESTION"
   ]
  },
  {
   "cell_type": "markdown",
   "metadata": {},
   "source": [
    "Problem Statement 1:\n",
    "\n",
    "In one state, 52% of the voters are Republicans, and 48% are Democrats. In a second\n",
    "state, 47% of the voters are Republicans, and 53% are Democrats. Suppose a simple\n",
    "random sample of 100 voters are surveyed from each state.\n",
    "What is the probability that the survey will show a greater percentage of Republican\n",
    "voters in the second state than in the first state?"
   ]
  },
  {
   "cell_type": "markdown",
   "metadata": {},
   "source": [
    "ANSWER"
   ]
  },
  {
   "cell_type": "code",
   "execution_count": 2,
   "metadata": {},
   "outputs": [
    {
     "name": "stdout",
     "output_type": "stream",
     "text": [
      "-0.7080278164104213\n",
      "Probability of greater percentage of Republican voters in the second state than in the first state is 24%\n"
     ]
    }
   ],
   "source": [
    "import math \n",
    "from scipy import stats \n",
    "\n",
    "P1 = 0.52 \n",
    "P2 = 0.47 \n",
    "n1 = n2 = 100\n",
    "\n",
    "#both are binomial distribution\n",
    "sd = math.sqrt((P1*(1-P1))/n1 + (P2*(1-P2))/n2)\n",
    "\n",
    "#z= X-Mu/Sigma = X - (Mu1-Mu2)/sd\n",
    "#since we want p2 > p1 then p1-p2<0 so we are taking X=0 here\n",
    "z1 = (0-(.52-.47))/sd \n",
    "print (z1) \n",
    "#z score of z1 = .2420 =24% \n",
    "print (\"Probability of greater percentage of Republican voters in the second state than in the first state is 24%\")"
   ]
  }
 ],
 "metadata": {
  "kernelspec": {
   "display_name": "Python 3",
   "language": "python",
   "name": "python3"
  },
  "language_info": {
   "codemirror_mode": {
    "name": "ipython",
    "version": 3
   },
   "file_extension": ".py",
   "mimetype": "text/x-python",
   "name": "python",
   "nbconvert_exporter": "python",
   "pygments_lexer": "ipython3",
   "version": "3.6.6"
  }
 },
 "nbformat": 4,
 "nbformat_minor": 2
}
